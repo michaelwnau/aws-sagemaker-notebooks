{
  "nbformat": 4,
  "nbformat_minor": 0,
  "metadata": {
    "colab": {
      "private_outputs": true,
      "provenance": [],
      "authorship_tag": "ABX9TyOnoPnSS0gOmJQ0r39Mgtx7",
      "include_colab_link": true
    },
    "kernelspec": {
      "name": "python3",
      "display_name": "Python 3"
    },
    "language_info": {
      "name": "python"
    }
  },
  "cells": [
    {
      "cell_type": "markdown",
      "metadata": {
        "id": "view-in-github",
        "colab_type": "text"
      },
      "source": [
        "<a href=\"https://colab.research.google.com/github/michaelwnau/aws-sagemaker-notebooks/blob/main/streamflow_infra_fpe.ipynb\" target=\"_parent\"><img src=\"https://colab.research.google.com/assets/colab-badge.svg\" alt=\"Open In Colab\"/></a>"
      ]
    },
    {
      "cell_type": "code",
      "execution_count": null,
      "metadata": {
        "id": "m3E2LuWffONY"
      },
      "outputs": [],
      "source": [
        "!pip install diagrams"
      ]
    },
    {
      "cell_type": "code",
      "source": [
        "# diagram.py\n",
        "from diagrams import Diagram\n",
        "from diagrams.aws.compute import EC2\n",
        "from diagrams.aws.database import RDS\n",
        "from diagrams.aws.network import ELB\n",
        "\n",
        "with Diagram(\"Web Service\", show=False):\n",
        "    ELB(\"lb\") >> EC2(\"web\") >> RDS(\"userdb\")"
      ],
      "metadata": {
        "id": "FQVLngfWfaYj"
      },
      "execution_count": null,
      "outputs": []
    },
    {
      "cell_type": "code",
      "source": [
        "from diagrams import Diagram, Cluster, Edge\n",
        "from diagrams.aws.compute import Lambda\n",
        "from diagrams.aws.ml import Sagemaker\n",
        "from diagrams.aws.database import Dynamodb\n",
        "from diagrams.aws.security import Cognito\n",
        "from diagrams.aws.storage import S3\n",
        "from diagrams.aws.integration import SNS\n",
        "from diagrams.aws.ml import SagemakerModel\n",
        "from diagrams.aws.management import Cloudformation\n",
        "\n",
        "with Diagram(\"AWS Architecture\", show=False, direction=\"TB\") as diag:\n",
        "    with Cluster(\"Storage\"):\n",
        "        deployment_bucket = S3(\"Deployment Bucket\")\n",
        "        storage_bucket = S3(\"Storage Bucket\")\n",
        "        website_bucket = S3(\"Website Bucket\")\n",
        "        models_bucket = S3(\"Models Bucket\")\n",
        "\n",
        "    with Cluster(\"Compute\"):\n",
        "        api_lambda = Lambda(\"API\")\n",
        "        trigger_lambda = Lambda(\"Trigger\")\n",
        "        worker_lambda = Lambda(\"Worker\")\n",
        "\n",
        "    with Cluster(\"Database\"):\n",
        "        db = Dynamodb(\"Database\")\n",
        "\n",
        "    with Cluster(\"Authentication\"):\n",
        "        auth = Cognito(\"Auth\")\n",
        "\n",
        "    with Cluster(\"Integration\"):\n",
        "        sns = SNS(\"Subscriptions\")\n",
        "\n",
        "    cloudformation = Cloudformation(\"CloudFormation\")\n",
        "\n",
        "    with Cluster(\"Machine Learning\"):\n",
        "        sagemaker_pipeline = Sagemaker(\"SageMaker Pipeline\")\n",
        "        resnet_model = SagemakerModel(\"Resnet-18\")\n",
        "\n",
        "    # Connections\n",
        "    api_lambda >> cloudformation\n",
        "    trigger_lambda >> cloudformation\n",
        "    worker_lambda >> cloudformation\n",
        "\n",
        "    deployment_bucket >> cloudformation\n",
        "    storage_bucket >> cloudformation\n",
        "    website_bucket >> cloudformation\n",
        "    models_bucket >> cloudformation\n",
        "\n",
        "    db >> cloudformation\n",
        "    auth >> cloudformation\n",
        "    sns >> cloudformation\n",
        "\n",
        "    trigger_lambda >> sns\n",
        "\n",
        "    # Sending batch images to SageMaker for inference\n",
        "    models_bucket >> Edge(label=\"Batch Images\") >> sagemaker_pipeline >> resnet_model\n",
        "\n",
        "# Save the diagram\n",
        "# diag.render(\"aws_architecture_diagram_extended.png\")\n"
      ],
      "metadata": {
        "id": "hNPT4k_MhRIm"
      },
      "execution_count": null,
      "outputs": []
    },
    {
      "cell_type": "code",
      "source": [
        "from diagrams import Diagram, Cluster\n",
        "from diagrams.aws.compute import Lambda\n",
        "from diagrams.aws.integration import SNS, SQS\n",
        "from diagrams.aws.database import Dynamodb\n",
        "from diagrams.aws.storage import S3\n",
        "from diagrams.aws.ml import Sagemaker\n",
        "from diagrams.aws.analytics import Kinesis\n",
        "from diagrams.aws.management import Cloudwatch, Cloudtrail\n",
        "from diagrams.aws.security import IAM\n",
        "\n",
        "with Diagram(\"Automated ML Pipeline Architecture\", show=False, direction=\"LR\"):\n",
        "    with Cluster(\"Data Ingestion\"):\n",
        "        kinesis = Kinesis(\"Kinesis\")\n",
        "\n",
        "    with Cluster(\"Data Processing\"):\n",
        "        lambda_processing = Lambda(\"Data Processing\")\n",
        "\n",
        "    with Cluster(\"Data Storage\"):\n",
        "        s3 = S3(\"S3\")\n",
        "        dynamodb = Dynamodb(\"DynamoDB\")\n",
        "\n",
        "    with Cluster(\"Model Training\"):\n",
        "        sagemaker_pipelines = Sagemaker(\"Sagemaker Pipelines\")\n",
        "\n",
        "    with Cluster(\"Performance Evaluation\"):\n",
        "        model_monitor = Sagemaker(\"Model Monitor\")\n",
        "        cloudwatch = Cloudwatch(\"CloudWatch\")\n",
        "\n",
        "    with Cluster(\"Prediction & Inference\"):\n",
        "        lambda_inference = Lambda(\"Batch Inference Trigger\")\n",
        "        sagemaker_endpoints = Sagemaker(\"Real-Time Inference\")\n",
        "\n",
        "    with Cluster(\"Monitoring & Security\"):\n",
        "        cloudtrail = Cloudtrail(\"CloudTrail\")\n",
        "        iam = IAM(\"IAM\")\n",
        "\n",
        "    with Cluster(\"Notification & Workflow\"):\n",
        "        sns = SNS(\"SNS\")\n",
        "        sqs = SQS(\"SQS\")\n",
        "\n",
        "    # Data flow\n",
        "    kinesis >> lambda_processing >> s3\n",
        "    sagemaker_pipelines >> model_monitor\n",
        "    sagemaker_pipelines >> sagemaker_endpoints\n",
        "    s3 >> dynamodb\n",
        "    lambda_inference >> sagemaker_endpoints\n",
        "    cloudwatch >> sns\n",
        "    cloudtrail >> sqs\n",
        "\n",
        "    # Service connections\n",
        "    lambda_processing >> cloudwatch\n",
        "    sagemaker_endpoints >> cloudwatch\n",
        "    cloudwatch >> cloudtrail\n",
        "    model_monitor >> sns\n",
        "    sns >> iam\n",
        "    sqs >> iam\n"
      ],
      "metadata": {
        "id": "OjJeZZGhUHoL"
      },
      "execution_count": null,
      "outputs": []
    }
  ]
}